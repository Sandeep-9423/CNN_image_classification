{
  "nbformat": 4,
  "nbformat_minor": 0,
  "metadata": {
    "colab": {
      "provenance": []
    },
    "kernelspec": {
      "name": "python3",
      "display_name": "Python 3"
    },
    "language_info": {
      "name": "python"
    }
  },
  "cells": [
    {
      "cell_type": "code",
      "metadata": {
        "id": "WxtAbir14aIu"
      },
      "source": [
        "import os\n",
        "import cv2\n",
        "import numpy as np\n",
        "\n",
        "imgdir = \"/content/drive/MyDrive/DLDataset/images\"\n",
        "imgcat =[\"HeroineImages\",\"herosimages\"]\n",
        "\n",
        "x =[] # input\n",
        "y=[] # target\n",
        "\n",
        "for cat in imgcat:\n",
        "  path = os.path.join(imgdir,cat)\n",
        "  label = imgcat.index(cat)\n",
        "  for img in os.listdir(path):\n",
        "    img = os.path.join(path,img)\n",
        "    #image process\n",
        "    img = cv2.imread(img) # reading image\n",
        "    img = cv2.resize(img,(50,50)) #resizing\n",
        "    img = cv2.cvtColor(img,cv2.COLOR_BGR2GRAY) #colr converting\n",
        "    img = np.array(img,dtype=float).flatten() # coverting 2d array\n",
        "    img = img.reshape(50,50,1)\n",
        "    img = img/255.0  #pixel conersion\n",
        "    x.append(img)\n",
        "    y.append(label)\n",
        "  print(x)\n",
        "  print(y)"
      ],
      "execution_count": null,
      "outputs": []
    },
    {
      "cell_type": "code",
      "metadata": {
        "colab": {
          "base_uri": "https://localhost:8080/"
        },
        "id": "tQlGMv-Y8u0a",
        "outputId": "06251c41-3973-42d4-e09e-67abdbac7fbb"
      },
      "source": [
        "#CNN NETWORK BUidr\n",
        "import tensorflow as tf\n",
        "from tensorflow.keras.models import Sequential\n",
        "from tensorflow.keras.layers import Conv2D,Dropout,Flatten,Dense,Activation\n",
        "print(x[0].shape)\n",
        "model = Sequential()\n",
        "#cnn input layer\n",
        "model.add(Conv2D(32,(3*3),input_shape=(50,50,1)))\n",
        "model.add(Flatten()) # 2d array\n",
        "#fully connected layer\n",
        "model.add(Dense(32,kernel_initializer='he_uniform',activation='relu'))\n",
        "model.add(Dense(32,kernel_initializer='he_uniform',activation='relu'))\n",
        "\n",
        "#output layer\n",
        "model.add(Dense(units=1,kernel_initializer='glorot_uniform',activation='sigmoid'))\n",
        "model.compile(optimizer='adam',loss='binary_crossentropy',metrics=['accuracy'])\n",
        "\n",
        "\n",
        "#32 = number of filters (32,64,128.......) , (3*3) = size of filter (max(11*11)), input_shape = shape of resized image\n",
        "\n"
      ],
      "execution_count": null,
      "outputs": [
        {
          "output_type": "stream",
          "name": "stdout",
          "text": [
            "(50, 50, 1)\n"
          ]
        }
      ]
    },
    {
      "cell_type": "code",
      "source": [
        "from google.colab import drive\n",
        "drive.mount('/content/drive')"
      ],
      "metadata": {
        "colab": {
          "base_uri": "https://localhost:8080/"
        },
        "id": "ywzOWX3PwRt6",
        "outputId": "7c8b1db6-1b9b-4fb9-ddea-09faac2c5e43"
      },
      "execution_count": null,
      "outputs": [
        {
          "output_type": "stream",
          "name": "stdout",
          "text": [
            "Mounted at /content/drive\n"
          ]
        }
      ]
    },
    {
      "cell_type": "code",
      "metadata": {
        "colab": {
          "base_uri": "https://localhost:8080/"
        },
        "id": "7B1loIxPKjvq",
        "outputId": "9b9e2130-e08f-492d-fa73-536a41726d28"
      },
      "source": [
        "x = np.array(x)\n",
        "y=np.array(y)\n",
        "#traing neural network\n",
        "model_hist=model.fit(x,y,batch_size=5,epochs=50,validation_split=0.3)\n",
        "print(model_hist.history['accuracy'])"
      ],
      "execution_count": null,
      "outputs": [
        {
          "output_type": "stream",
          "name": "stdout",
          "text": [
            "Epoch 1/50\n",
            "2/2 [==============================] - 1s 241ms/step - loss: 0.6865 - accuracy: 0.5714 - val_loss: 7.6543 - val_accuracy: 0.0000e+00\n",
            "Epoch 2/50\n",
            "2/2 [==============================] - 0s 52ms/step - loss: 1.9745 - accuracy: 0.7143 - val_loss: 0.6250 - val_accuracy: 0.6667\n",
            "Epoch 3/50\n",
            "2/2 [==============================] - 0s 52ms/step - loss: 0.2586 - accuracy: 1.0000 - val_loss: 1.8048 - val_accuracy: 0.0000e+00\n",
            "Epoch 4/50\n",
            "2/2 [==============================] - 0s 50ms/step - loss: 0.1081 - accuracy: 1.0000 - val_loss: 3.0188 - val_accuracy: 0.0000e+00\n",
            "Epoch 5/50\n",
            "2/2 [==============================] - 0s 50ms/step - loss: 0.0372 - accuracy: 1.0000 - val_loss: 2.5207 - val_accuracy: 0.0000e+00\n",
            "Epoch 6/50\n",
            "2/2 [==============================] - 0s 49ms/step - loss: 0.0179 - accuracy: 1.0000 - val_loss: 1.9982 - val_accuracy: 0.0000e+00\n",
            "Epoch 7/50\n",
            "2/2 [==============================] - 0s 61ms/step - loss: 0.0162 - accuracy: 1.0000 - val_loss: 1.6367 - val_accuracy: 0.0000e+00\n",
            "Epoch 8/50\n",
            "2/2 [==============================] - 0s 49ms/step - loss: 0.0139 - accuracy: 1.0000 - val_loss: 1.4364 - val_accuracy: 0.0000e+00\n",
            "Epoch 9/50\n",
            "2/2 [==============================] - 0s 49ms/step - loss: 0.0106 - accuracy: 1.0000 - val_loss: 1.2852 - val_accuracy: 0.3333\n",
            "Epoch 10/50\n",
            "2/2 [==============================] - 0s 52ms/step - loss: 0.0087 - accuracy: 1.0000 - val_loss: 1.3596 - val_accuracy: 0.3333\n",
            "Epoch 11/50\n",
            "2/2 [==============================] - 0s 49ms/step - loss: 0.0053 - accuracy: 1.0000 - val_loss: 1.4986 - val_accuracy: 0.0000e+00\n",
            "Epoch 12/50\n",
            "2/2 [==============================] - 0s 53ms/step - loss: 0.0038 - accuracy: 1.0000 - val_loss: 1.6856 - val_accuracy: 0.0000e+00\n",
            "Epoch 13/50\n",
            "2/2 [==============================] - 0s 49ms/step - loss: 0.0025 - accuracy: 1.0000 - val_loss: 1.8744 - val_accuracy: 0.0000e+00\n",
            "Epoch 14/50\n",
            "2/2 [==============================] - 0s 53ms/step - loss: 0.0019 - accuracy: 1.0000 - val_loss: 2.0571 - val_accuracy: 0.0000e+00\n",
            "Epoch 15/50\n",
            "2/2 [==============================] - 0s 53ms/step - loss: 0.0013 - accuracy: 1.0000 - val_loss: 2.2332 - val_accuracy: 0.0000e+00\n",
            "Epoch 16/50\n",
            "2/2 [==============================] - 0s 60ms/step - loss: 9.7150e-04 - accuracy: 1.0000 - val_loss: 2.3994 - val_accuracy: 0.0000e+00\n",
            "Epoch 17/50\n",
            "2/2 [==============================] - 0s 54ms/step - loss: 7.4292e-04 - accuracy: 1.0000 - val_loss: 2.5554 - val_accuracy: 0.0000e+00\n",
            "Epoch 18/50\n",
            "2/2 [==============================] - 0s 53ms/step - loss: 5.5966e-04 - accuracy: 1.0000 - val_loss: 2.6975 - val_accuracy: 0.0000e+00\n",
            "Epoch 19/50\n",
            "2/2 [==============================] - 0s 61ms/step - loss: 4.8727e-04 - accuracy: 1.0000 - val_loss: 2.8301 - val_accuracy: 0.0000e+00\n",
            "Epoch 20/50\n",
            "2/2 [==============================] - 0s 53ms/step - loss: 3.9900e-04 - accuracy: 1.0000 - val_loss: 2.9468 - val_accuracy: 0.0000e+00\n",
            "Epoch 21/50\n",
            "2/2 [==============================] - 0s 53ms/step - loss: 3.4988e-04 - accuracy: 1.0000 - val_loss: 3.0541 - val_accuracy: 0.0000e+00\n",
            "Epoch 22/50\n",
            "2/2 [==============================] - 0s 56ms/step - loss: 3.1639e-04 - accuracy: 1.0000 - val_loss: 3.1577 - val_accuracy: 0.0000e+00\n",
            "Epoch 23/50\n",
            "2/2 [==============================] - 0s 53ms/step - loss: 2.8087e-04 - accuracy: 1.0000 - val_loss: 3.2508 - val_accuracy: 0.0000e+00\n",
            "Epoch 24/50\n",
            "2/2 [==============================] - 0s 56ms/step - loss: 2.5319e-04 - accuracy: 1.0000 - val_loss: 3.3363 - val_accuracy: 0.0000e+00\n",
            "Epoch 25/50\n",
            "2/2 [==============================] - 0s 50ms/step - loss: 2.3406e-04 - accuracy: 1.0000 - val_loss: 3.4125 - val_accuracy: 0.0000e+00\n",
            "Epoch 26/50\n",
            "2/2 [==============================] - 0s 52ms/step - loss: 2.1420e-04 - accuracy: 1.0000 - val_loss: 3.4818 - val_accuracy: 0.0000e+00\n",
            "Epoch 27/50\n",
            "2/2 [==============================] - 0s 51ms/step - loss: 2.0484e-04 - accuracy: 1.0000 - val_loss: 3.5448 - val_accuracy: 0.0000e+00\n",
            "Epoch 28/50\n",
            "2/2 [==============================] - 0s 49ms/step - loss: 1.9306e-04 - accuracy: 1.0000 - val_loss: 3.6015 - val_accuracy: 0.0000e+00\n",
            "Epoch 29/50\n",
            "2/2 [==============================] - 0s 51ms/step - loss: 1.8299e-04 - accuracy: 1.0000 - val_loss: 3.6526 - val_accuracy: 0.0000e+00\n",
            "Epoch 30/50\n",
            "2/2 [==============================] - 0s 58ms/step - loss: 1.7245e-04 - accuracy: 1.0000 - val_loss: 3.6988 - val_accuracy: 0.0000e+00\n",
            "Epoch 31/50\n",
            "2/2 [==============================] - 0s 49ms/step - loss: 1.6585e-04 - accuracy: 1.0000 - val_loss: 3.7419 - val_accuracy: 0.0000e+00\n",
            "Epoch 32/50\n",
            "2/2 [==============================] - 0s 54ms/step - loss: 1.5960e-04 - accuracy: 1.0000 - val_loss: 3.7818 - val_accuracy: 0.0000e+00\n",
            "Epoch 33/50\n",
            "2/2 [==============================] - 0s 55ms/step - loss: 1.5603e-04 - accuracy: 1.0000 - val_loss: 3.8185 - val_accuracy: 0.0000e+00\n",
            "Epoch 34/50\n",
            "2/2 [==============================] - 0s 51ms/step - loss: 1.5046e-04 - accuracy: 1.0000 - val_loss: 3.8515 - val_accuracy: 0.0000e+00\n",
            "Epoch 35/50\n",
            "2/2 [==============================] - 0s 51ms/step - loss: 1.4575e-04 - accuracy: 1.0000 - val_loss: 3.8820 - val_accuracy: 0.0000e+00\n",
            "Epoch 36/50\n",
            "2/2 [==============================] - 0s 54ms/step - loss: 1.4169e-04 - accuracy: 1.0000 - val_loss: 3.9100 - val_accuracy: 0.0000e+00\n",
            "Epoch 37/50\n",
            "2/2 [==============================] - 0s 58ms/step - loss: 1.3837e-04 - accuracy: 1.0000 - val_loss: 3.9359 - val_accuracy: 0.0000e+00\n",
            "Epoch 38/50\n",
            "2/2 [==============================] - 0s 56ms/step - loss: 1.3530e-04 - accuracy: 1.0000 - val_loss: 3.9598 - val_accuracy: 0.0000e+00\n",
            "Epoch 39/50\n",
            "2/2 [==============================] - 0s 52ms/step - loss: 1.3155e-04 - accuracy: 1.0000 - val_loss: 3.9826 - val_accuracy: 0.0000e+00\n",
            "Epoch 40/50\n",
            "2/2 [==============================] - 0s 50ms/step - loss: 1.2860e-04 - accuracy: 1.0000 - val_loss: 4.0055 - val_accuracy: 0.0000e+00\n",
            "Epoch 41/50\n",
            "2/2 [==============================] - 0s 50ms/step - loss: 1.2575e-04 - accuracy: 1.0000 - val_loss: 4.0285 - val_accuracy: 0.0000e+00\n",
            "Epoch 42/50\n",
            "2/2 [==============================] - 0s 50ms/step - loss: 1.2406e-04 - accuracy: 1.0000 - val_loss: 4.0516 - val_accuracy: 0.0000e+00\n",
            "Epoch 43/50\n",
            "2/2 [==============================] - 0s 52ms/step - loss: 1.2144e-04 - accuracy: 1.0000 - val_loss: 4.0737 - val_accuracy: 0.0000e+00\n",
            "Epoch 44/50\n",
            "2/2 [==============================] - 0s 51ms/step - loss: 1.1806e-04 - accuracy: 1.0000 - val_loss: 4.0947 - val_accuracy: 0.0000e+00\n",
            "Epoch 45/50\n",
            "2/2 [==============================] - 0s 52ms/step - loss: 1.1658e-04 - accuracy: 1.0000 - val_loss: 4.1154 - val_accuracy: 0.0000e+00\n",
            "Epoch 46/50\n",
            "2/2 [==============================] - 0s 57ms/step - loss: 1.1418e-04 - accuracy: 1.0000 - val_loss: 4.1346 - val_accuracy: 0.0000e+00\n",
            "Epoch 47/50\n",
            "2/2 [==============================] - 0s 50ms/step - loss: 1.1190e-04 - accuracy: 1.0000 - val_loss: 4.1526 - val_accuracy: 0.0000e+00\n",
            "Epoch 48/50\n",
            "2/2 [==============================] - 0s 52ms/step - loss: 1.0988e-04 - accuracy: 1.0000 - val_loss: 4.1699 - val_accuracy: 0.0000e+00\n",
            "Epoch 49/50\n",
            "2/2 [==============================] - 0s 51ms/step - loss: 1.0737e-04 - accuracy: 1.0000 - val_loss: 4.1871 - val_accuracy: 0.0000e+00\n",
            "Epoch 50/50\n",
            "2/2 [==============================] - 0s 51ms/step - loss: 1.0622e-04 - accuracy: 1.0000 - val_loss: 4.2049 - val_accuracy: 0.0000e+00\n",
            "[0.5714285969734192, 0.7142857313156128, 1.0, 1.0, 1.0, 1.0, 1.0, 1.0, 1.0, 1.0, 1.0, 1.0, 1.0, 1.0, 1.0, 1.0, 1.0, 1.0, 1.0, 1.0, 1.0, 1.0, 1.0, 1.0, 1.0, 1.0, 1.0, 1.0, 1.0, 1.0, 1.0, 1.0, 1.0, 1.0, 1.0, 1.0, 1.0, 1.0, 1.0, 1.0, 1.0, 1.0, 1.0, 1.0, 1.0, 1.0, 1.0, 1.0, 1.0, 1.0]\n"
          ]
        }
      ]
    },
    {
      "cell_type": "code",
      "metadata": {
        "colab": {
          "base_uri": "https://localhost:8080/"
        },
        "id": "NDrimwF-M_yW",
        "outputId": "387a40ac-d3c2-4963-ba65-6d5a10e79b5f"
      },
      "source": [
        "#prediction\n",
        "pimg = cv2.imread(\"/content/drive/MyDrive/DLDataset/images/HeroineImages/download1.jpg\") # reading image\n",
        "pimg = cv2.resize(pimg,(50,50)) #resizing\n",
        "pimg = cv2.cvtColor(pimg,cv2.COLOR_BGR2GRAY) #colr converting\n",
        "pimg = np.array(pimg,dtype=float).flatten() # coverting 2d array\n",
        "pimg = pimg.reshape(1,50,50,1)\n",
        "#img = img/255.0\n",
        "pimg = np.array(pimg)\n",
        "ycap=model.predict(pimg)\n",
        "print(ycap)"
      ],
      "execution_count": null,
      "outputs": [
        {
          "output_type": "stream",
          "name": "stdout",
          "text": [
            "[[0.]]\n"
          ]
        }
      ]
    }
  ]
}